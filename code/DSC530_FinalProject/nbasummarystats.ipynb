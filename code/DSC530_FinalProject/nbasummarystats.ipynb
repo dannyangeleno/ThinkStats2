{
 "cells": [
  {
   "cell_type": "code",
   "execution_count": null,
   "metadata": {},
   "outputs": [],
   "source": [
    "import pandas as pd\n",
    "import thinkstats2 as ts2\n",
    "import numpy as np\n",
    "filename = r'C:\\Users\\Danny\\thinkstats2\\ThinkStats2\\code\\nbagames1985to2019_cleaned.csv'\n",
    "df = pd.read_csv(filename, index_col=None, header=0)\n",
    "df.head()"
   ]
  },
  {
   "cell_type": "code",
   "execution_count": null,
   "metadata": {},
   "outputs": [],
   "source": [
    "def mode(hist):\n",
    "    mode = 0\n",
    "    vals = 0\n",
    "    for val, freq in hist.Items():\n",
    "        if freq > mode:\n",
    "            mode = freq\n",
    "            vals = val\n",
    "        else:\n",
    "            continue\n",
    "    return vals, mode"
   ]
  },
  {
   "cell_type": "code",
   "execution_count": null,
   "metadata": {},
   "outputs": [],
   "source": [
    "def median(list):\n",
    "    sorted_list = sorted(list)\n",
    "    return (sorted_list[38942]+sorted_list[38941])/2"
   ]
  },
  {
   "cell_type": "code",
   "execution_count": null,
   "metadata": {},
   "outputs": [],
   "source": [
    "def SummStats(col_name, ColumnName):\n",
    "    print(f\"Mean of {ColumnName}\")\n",
    "    print(df[col_name].mean())\n",
    "    print(f\"Median of {ColumnName}\")\n",
    "    print(median(df[col_name]))\n",
    "    print(f\"Mode of {ColumnName}\")\n",
    "    print(mode(ts2.Hist(df[col_name])))\n",
    "    print(f\"Variance of {ColumnName}\")\n",
    "    print(df[col_name].var())\n",
    "    print(f\"Standard Deviation of {ColumnName}\")\n",
    "    print(df[col_name].std())"
   ]
  },
  {
   "cell_type": "code",
   "execution_count": null,
   "metadata": {
    "scrolled": true
   },
   "outputs": [],
   "source": [
    "SummStats('DREB', 'Defensive Rebounds')"
   ]
  },
  {
   "cell_type": "code",
   "execution_count": null,
   "metadata": {
    "scrolled": true
   },
   "outputs": [],
   "source": [
    "SummStats('STL', 'Steals')"
   ]
  },
  {
   "cell_type": "code",
   "execution_count": null,
   "metadata": {
    "scrolled": true
   },
   "outputs": [],
   "source": [
    "SummStats('BLK', 'Blocks')"
   ]
  },
  {
   "cell_type": "code",
   "execution_count": null,
   "metadata": {
    "scrolled": true
   },
   "outputs": [],
   "source": [
    "SummStats('OPP_PTS', \"Opponents' Points\")"
   ]
  },
  {
   "cell_type": "code",
   "execution_count": null,
   "metadata": {},
   "outputs": [],
   "source": [
    "SummStats('OPP_FG_PCT', \"Opponents' FG %\")"
   ]
  },
  {
   "cell_type": "code",
   "execution_count": null,
   "metadata": {},
   "outputs": [],
   "source": [
    "SummStats('OPP_3FG_PCT', \"Opponents' 3PT FG %\")"
   ]
  },
  {
   "cell_type": "code",
   "execution_count": null,
   "metadata": {},
   "outputs": [],
   "source": [
    "SummStats('REB_RATE', 'Rebounding Rate')"
   ]
  },
  {
   "cell_type": "code",
   "execution_count": null,
   "metadata": {},
   "outputs": [],
   "source": [
    "SummStats('PF', 'Personal Fouls')"
   ]
  },
  {
   "cell_type": "code",
   "execution_count": null,
   "metadata": {},
   "outputs": [],
   "source": []
  }
 ],
 "metadata": {
  "kernelspec": {
   "display_name": "Python 3",
   "language": "python",
   "name": "python3"
  },
  "language_info": {
   "codemirror_mode": {
    "name": "ipython",
    "version": 3
   },
   "file_extension": ".py",
   "mimetype": "text/x-python",
   "name": "python",
   "nbconvert_exporter": "python",
   "pygments_lexer": "ipython3",
   "version": "3.8.5"
  }
 },
 "nbformat": 4,
 "nbformat_minor": 4
}
