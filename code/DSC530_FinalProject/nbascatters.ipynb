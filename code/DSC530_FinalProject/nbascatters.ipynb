{
 "cells": [
  {
   "cell_type": "code",
   "execution_count": null,
   "metadata": {},
   "outputs": [],
   "source": [
    "import pandas as pd\n",
    "filename = r'C:\\Users\\Danny\\thinkstats2\\ThinkStats2\\code\\nbagames1985to2019_cleaned.csv'\n",
    "df = pd.read_csv(filename, index_col=None, header=0)\n",
    "df.head()\n",
    "import thinkplot\n",
    "import thinkstats2 as ts2"
   ]
  },
  {
   "cell_type": "code",
   "execution_count": null,
   "metadata": {},
   "outputs": [],
   "source": [
    "def Scatter_plotter(col_name, ColumnName):\n",
    "    thinkplot.PrePlot(2, cols=2)\n",
    "    thinkplot.Scatter(df[col_name],df.PTS, alpha = .1)\n",
    "    thinkplot.config(title=f'Scatter Plot of {ColumnName} vs Pts', xlabel=f'{ColumnName}',ylabel='Points')\n",
    "    thinkplot.PrePlot(2)\n",
    "    thinkplot.SubPlot(2)\n",
    "    thinkplot.HexBin(df[col_name],df.PTS)\n",
    "    thinkplot.config(title=f'HexBin Plot of {ColumnName} vs Pts',xlabel=f'{ColumnName}',ylabel='Points')\n",
    "    print(f'Covariance of {ColumnName} and Points')\n",
    "    print(ts2.Cov(df[col_name],df.PTS))\n",
    "    print(f\"Pearson's Correlation of {ColumnName} and Points\")\n",
    "    print(ts2.Corr(df[col_name],df.PTS))\n",
    "    print(f\"Spearman's Rank Correlation of {ColumnName} and Points\")\n",
    "    print(ts2.SpearmanCorr(df[col_name],df.PTS))"
   ]
  },
  {
   "cell_type": "code",
   "execution_count": null,
   "metadata": {},
   "outputs": [],
   "source": [
    "def Scatter_plotter_vsPlusMinus(col_name, ColumnName):\n",
    "    thinkplot.PrePlot(2, cols=2)\n",
    "    thinkplot.Scatter(df[col_name],df.PLUS_MINUS, alpha = .1)\n",
    "    thinkplot.config(title=f'Scatter Plot of {ColumnName} vs PLUS_MINUS', xlabel=f'{ColumnName}',ylabel='Points')\n",
    "    thinkplot.PrePlot(2)\n",
    "    thinkplot.SubPlot(2)\n",
    "    thinkplot.HexBin(df[col_name],df.PLUS_MINUS)\n",
    "    thinkplot.config(title=f'HexBin Plot of {ColumnName} vs PLUS_MINUS',xlabel=f'{ColumnName}',ylabel='Points')\n",
    "    print(f'Covariance of {ColumnName} and PLUS_MINUS')\n",
    "    print(ts2.Cov(df[col_name],df.PLUS_MINUS))\n",
    "    print(f\"Pearson's Correlation of {ColumnName} and PLUS_MINUS\")\n",
    "    print(ts2.Corr(df[col_name],df.PLUS_MINUS))\n",
    "    print(f\"Spearman's Rank Correlation of {ColumnName} and PLUS_MINUS\")\n",
    "    print(ts2.SpearmanCorr(df[col_name],df.PLUS_MINUS))"
   ]
  },
  {
   "cell_type": "code",
   "execution_count": null,
   "metadata": {},
   "outputs": [],
   "source": [
    "Scatter_plotter_vsPlusMinus('DREB', 'Defensive Rebounds')"
   ]
  },
  {
   "cell_type": "code",
   "execution_count": null,
   "metadata": {
    "scrolled": true
   },
   "outputs": [],
   "source": [
    "Scatter_plotter('DREB', 'Defensive Rebounds')"
   ]
  },
  {
   "cell_type": "code",
   "execution_count": null,
   "metadata": {},
   "outputs": [],
   "source": [
    "Scatter_plotter_vsPlusMinus('STL', 'Steals')"
   ]
  },
  {
   "cell_type": "code",
   "execution_count": null,
   "metadata": {
    "scrolled": true
   },
   "outputs": [],
   "source": [
    "Scatter_plotter('STL', 'Steals')"
   ]
  },
  {
   "cell_type": "code",
   "execution_count": null,
   "metadata": {},
   "outputs": [],
   "source": [
    "Scatter_plotter_vsPlusMinus('BLK', 'Blocks')"
   ]
  },
  {
   "cell_type": "code",
   "execution_count": null,
   "metadata": {
    "scrolled": true
   },
   "outputs": [],
   "source": [
    "Scatter_plotter('BLK', 'Blocks')"
   ]
  },
  {
   "cell_type": "code",
   "execution_count": null,
   "metadata": {},
   "outputs": [],
   "source": [
    "Scatter_plotter_vsPlusMinus('OPP_PTS', \"Opponents' Points\")"
   ]
  },
  {
   "cell_type": "code",
   "execution_count": null,
   "metadata": {
    "scrolled": true
   },
   "outputs": [],
   "source": [
    "Scatter_plotter('OPP_PTS', \"Opponents' Points\")"
   ]
  },
  {
   "cell_type": "code",
   "execution_count": null,
   "metadata": {},
   "outputs": [],
   "source": [
    "Scatter_plotter_vsPlusMinus('PF', 'Personal Fouls')"
   ]
  },
  {
   "cell_type": "code",
   "execution_count": null,
   "metadata": {
    "scrolled": true
   },
   "outputs": [],
   "source": [
    "Scatter_plotter('PF', 'Personal Fouls')"
   ]
  },
  {
   "cell_type": "code",
   "execution_count": null,
   "metadata": {
    "scrolled": true
   },
   "outputs": [],
   "source": [
    "Scatter_plotter_vsPlusMinus('OPP_FG_PCT', \"Opponents' FG %\")"
   ]
  },
  {
   "cell_type": "code",
   "execution_count": null,
   "metadata": {},
   "outputs": [],
   "source": [
    "Scatter_plotter('OPP_FG_PCT', \"Opponents' FG %\")"
   ]
  },
  {
   "cell_type": "code",
   "execution_count": null,
   "metadata": {},
   "outputs": [],
   "source": [
    "Scatter_plotter_vsPlusMinus('OPP_3FG_PCT', \"Opponents' 3PT FG %\")"
   ]
  },
  {
   "cell_type": "code",
   "execution_count": null,
   "metadata": {},
   "outputs": [],
   "source": [
    "Scatter_plotter('OPP_3FG_PCT', \"Opponents' 3PT FG %\")"
   ]
  },
  {
   "cell_type": "code",
   "execution_count": null,
   "metadata": {},
   "outputs": [],
   "source": [
    "Scatter_plotter_vsPlusMinus('REB_RATE', \"Rebounding Rate\")"
   ]
  },
  {
   "cell_type": "code",
   "execution_count": null,
   "metadata": {},
   "outputs": [],
   "source": [
    "Scatter_plotter('REB_RATE', \"Rebounding Rate\")"
   ]
  },
  {
   "cell_type": "code",
   "execution_count": null,
   "metadata": {},
   "outputs": [],
   "source": []
  }
 ],
 "metadata": {
  "kernelspec": {
   "display_name": "Python 3",
   "language": "python",
   "name": "python3"
  },
  "language_info": {
   "codemirror_mode": {
    "name": "ipython",
    "version": 3
   },
   "file_extension": ".py",
   "mimetype": "text/x-python",
   "name": "python",
   "nbconvert_exporter": "python",
   "pygments_lexer": "ipython3",
   "version": "3.8.5"
  }
 },
 "nbformat": 4,
 "nbformat_minor": 4
}
