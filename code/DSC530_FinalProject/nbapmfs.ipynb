{
 "cells": [
  {
   "cell_type": "code",
   "execution_count": null,
   "metadata": {},
   "outputs": [],
   "source": [
    "import pandas as pd\n",
    "import thinkstats2 as ts2\n",
    "import numpy as np\n",
    "import thinkplot\n",
    "filename = r'C:\\Users\\Danny\\thinkstats2\\ThinkStats2\\code\\nbagames1985to2019_cleaned.csv'\n",
    "df = pd.read_csv(filename, index_col=None, header=0)\n",
    "df.head()"
   ]
  },
  {
   "cell_type": "code",
   "execution_count": null,
   "metadata": {},
   "outputs": [],
   "source": [
    "# This code changes WinLoss column from binary to WL\n",
    "df.loc[df.WL == 0, \"WL\"] = 'L'\n",
    "df.loc[df.WL == 1, \"WL\"] = 'W'\n",
    "winners = df[df.WL == 'W']\n",
    "losers = df[df.WL == 'L']"
   ]
  },
  {
   "cell_type": "code",
   "execution_count": null,
   "metadata": {},
   "outputs": [],
   "source": [
    "def PMF_plotter(col_name, ColumnName):\n",
    "    wins_pmf = ts2.Pmf(winners[col_name], label='Wins')\n",
    "    losses_pmf = ts2.Pmf(losers[col_name], label='Losses')\n",
    "    thinkplot.PrePlot(2, cols=2)\n",
    "    thinkplot.Hist(wins_pmf, align='right')\n",
    "    thinkplot.Hist(losses_pmf, align='left')\n",
    "    thinkplot.Config(xlabel=f'{ColumnName}',ylabel='probability')\n",
    "    thinkplot.PrePlot(2)\n",
    "    thinkplot.SubPlot(2)\n",
    "    thinkplot.Pmfs([wins_pmf, losses_pmf])\n",
    "    thinkplot.config(xlabel=f'{ColumnName}')"
   ]
  },
  {
   "cell_type": "code",
   "execution_count": null,
   "metadata": {},
   "outputs": [],
   "source": [
    "PMF_plotter('DREB', 'Rebounds')"
   ]
  },
  {
   "cell_type": "code",
   "execution_count": null,
   "metadata": {},
   "outputs": [],
   "source": [
    "PMF_plotter('DREB', 'Rebounds')\n",
    "thinkplot.Save(root='reb_pmf')"
   ]
  },
  {
   "cell_type": "code",
   "execution_count": null,
   "metadata": {},
   "outputs": [],
   "source": [
    "PMF_plotter('STL', 'Steals')\n",
    "thinkplot.Save(root='stl_pmf')"
   ]
  },
  {
   "cell_type": "code",
   "execution_count": null,
   "metadata": {
    "scrolled": false
   },
   "outputs": [],
   "source": [
    "PMF_plotter('STL', 'Steals')"
   ]
  },
  {
   "cell_type": "code",
   "execution_count": null,
   "metadata": {
    "scrolled": true
   },
   "outputs": [],
   "source": [
    "PMF_plotter('BLK', 'Blocks')\n",
    "thinkplot.Save(root='blk_pmf')"
   ]
  },
  {
   "cell_type": "code",
   "execution_count": null,
   "metadata": {},
   "outputs": [],
   "source": [
    "PMF_plotter('BLK', 'Blocks')"
   ]
  },
  {
   "cell_type": "code",
   "execution_count": null,
   "metadata": {
    "scrolled": true
   },
   "outputs": [],
   "source": [
    "PMF_plotter('OPP_PTS', \"Opponents' Points\")\n",
    "thinkplot.Save(root='opp_pts_pmf')"
   ]
  },
  {
   "cell_type": "code",
   "execution_count": null,
   "metadata": {},
   "outputs": [],
   "source": [
    "PMF_plotter('OPP_PTS', \"Opponents' Points\")"
   ]
  },
  {
   "cell_type": "code",
   "execution_count": null,
   "metadata": {
    "scrolled": true
   },
   "outputs": [],
   "source": [
    "PMF_plotter('REB_RATE', 'Rebounding Rate')\n",
    "thinkplot.Save(root='reb_rate_pmf')"
   ]
  },
  {
   "cell_type": "code",
   "execution_count": null,
   "metadata": {},
   "outputs": [],
   "source": [
    "PMF_plotter('REB_RATE', 'Rebounding Rate')"
   ]
  },
  {
   "cell_type": "code",
   "execution_count": null,
   "metadata": {
    "scrolled": true
   },
   "outputs": [],
   "source": [
    "PMF_plotter('PF', 'Personal Fouls')\n",
    "thinkplot.Save(root='pf_pmf')"
   ]
  },
  {
   "cell_type": "code",
   "execution_count": null,
   "metadata": {},
   "outputs": [],
   "source": [
    "PMF_plotter('PF', 'Personal Fouls')"
   ]
  },
  {
   "cell_type": "code",
   "execution_count": null,
   "metadata": {},
   "outputs": [],
   "source": [
    "PMF_plotter('OPP_FG_PCT', \"Opponents' FG %\")\n",
    "thinkplot.Save(root='opp_fg_pct_pmf')"
   ]
  },
  {
   "cell_type": "code",
   "execution_count": null,
   "metadata": {},
   "outputs": [],
   "source": [
    "PMF_plotter('OPP_FG_PCT', \"Opponents' FG %\")"
   ]
  },
  {
   "cell_type": "code",
   "execution_count": null,
   "metadata": {},
   "outputs": [],
   "source": [
    "PMF_plotter('OPP_3FG_PCT', \"Opponents' 3PT FG %\")\n",
    "thinkplot.Save(root='opp_3fg_pct_pmf')"
   ]
  },
  {
   "cell_type": "code",
   "execution_count": null,
   "metadata": {},
   "outputs": [],
   "source": [
    "PMF_plotter('OPP_3FG_PCT', \"Opponents' 3PT FG %\")"
   ]
  },
  {
   "cell_type": "code",
   "execution_count": null,
   "metadata": {},
   "outputs": [],
   "source": [
    "# Change Win/Loss Column Back\n",
    "# This code changes WinLoss column from WL to binary\n",
    "df.loc[df.WL == 'W', \"WL\"] = 1\n",
    "df.loc[df.WL == 'L', \"WL\"] = 0"
   ]
  },
  {
   "cell_type": "code",
   "execution_count": null,
   "metadata": {},
   "outputs": [],
   "source": []
  }
 ],
 "metadata": {
  "kernelspec": {
   "display_name": "Python 3",
   "language": "python",
   "name": "python3"
  },
  "language_info": {
   "codemirror_mode": {
    "name": "ipython",
    "version": 3
   },
   "file_extension": ".py",
   "mimetype": "text/x-python",
   "name": "python",
   "nbconvert_exporter": "python",
   "pygments_lexer": "ipython3",
   "version": "3.8.5"
  }
 },
 "nbformat": 4,
 "nbformat_minor": 4
}
