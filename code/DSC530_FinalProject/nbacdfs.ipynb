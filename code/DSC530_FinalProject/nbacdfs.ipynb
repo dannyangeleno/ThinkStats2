{
 "cells": [
  {
   "cell_type": "code",
   "execution_count": null,
   "metadata": {},
   "outputs": [],
   "source": [
    "import pandas as pd\n",
    "import thinkstats2 as ts2\n",
    "import numpy as np\n",
    "import thinkplot\n",
    "filename = r'C:\\Users\\Danny\\thinkstats2\\ThinkStats2\\code\\nbagames1985to2019_cleaned.csv'\n",
    "df = pd.read_csv(filename, index_col=None, header=0)"
   ]
  },
  {
   "cell_type": "code",
   "execution_count": null,
   "metadata": {},
   "outputs": [],
   "source": [
    "# This code changes WinLoss column from binary to WL\n",
    "df.loc[df.WL == 0, \"WL\"] = 'L'\n",
    "df.loc[df.WL == 1, \"WL\"] = 'W'\n",
    "winners = df[df.WL == 'W']\n",
    "losers = df[df.WL == 'L']\n",
    "winners = df[df.WL == 'W']\n",
    "losers = df[df.WL == 'L']"
   ]
  },
  {
   "cell_type": "code",
   "execution_count": null,
   "metadata": {},
   "outputs": [],
   "source": [
    "def CDF_plotter(col_name, ColumnName):\n",
    "    win_cdf = ts2.Cdf(winners[col_name], label='Wins')\n",
    "    lose_cdf = ts2.Cdf(losers[col_name], label='Losses')\n",
    "    thinkplot.PrePlot(2)\n",
    "    thinkplot.Cdfs([win_cdf, lose_cdf])\n",
    "    thinkplot.config(xlabel=f'{ColumnName}', ylabel='CDF')"
   ]
  },
  {
   "cell_type": "code",
   "execution_count": null,
   "metadata": {},
   "outputs": [],
   "source": [
    "def CDF_saver(col_name, ColumnName):\n",
    "    win_cdf = ts2.Cdf(winners[col_name], label='Wins')\n",
    "    lose_cdf = ts2.Cdf(losers[col_name], label='Losses')\n",
    "    thinkplot.PrePlot(2)\n",
    "    thinkplot.Cdfs([win_cdf, lose_cdf])\n",
    "    thinkplot.config(xlabel=f'{ColumnName}', ylabel='CDF')\n",
    "    thinkplot.Save(root=f'{ColumnName}_cdf')"
   ]
  },
  {
   "cell_type": "code",
   "execution_count": null,
   "metadata": {},
   "outputs": [],
   "source": [
    "CDF_saver('DREB', 'Rebounds')"
   ]
  },
  {
   "cell_type": "code",
   "execution_count": null,
   "metadata": {
    "scrolled": true
   },
   "outputs": [],
   "source": [
    "CDF_plotter('DREB', 'Rebounds')"
   ]
  },
  {
   "cell_type": "code",
   "execution_count": null,
   "metadata": {},
   "outputs": [],
   "source": [
    "CDF_saver('STL', 'Steals')"
   ]
  },
  {
   "cell_type": "code",
   "execution_count": null,
   "metadata": {
    "scrolled": false
   },
   "outputs": [],
   "source": [
    "CDF_plotter('STL', 'Steals')"
   ]
  },
  {
   "cell_type": "code",
   "execution_count": null,
   "metadata": {},
   "outputs": [],
   "source": [
    "CDF_saver('BLK', 'Blocks')"
   ]
  },
  {
   "cell_type": "code",
   "execution_count": null,
   "metadata": {
    "scrolled": false
   },
   "outputs": [],
   "source": [
    "CDF_plotter('BLK', 'Blocks')"
   ]
  },
  {
   "cell_type": "code",
   "execution_count": null,
   "metadata": {},
   "outputs": [],
   "source": [
    "CDF_saver('OPP_PTS', \"Opponents' Points\")"
   ]
  },
  {
   "cell_type": "code",
   "execution_count": null,
   "metadata": {
    "scrolled": true
   },
   "outputs": [],
   "source": [
    "CDF_plotter('OPP_PTS', \"Opponents' Points\")"
   ]
  },
  {
   "cell_type": "code",
   "execution_count": null,
   "metadata": {},
   "outputs": [],
   "source": [
    "CDF_saver('REB_RATE', 'Rebounding Rate')"
   ]
  },
  {
   "cell_type": "code",
   "execution_count": null,
   "metadata": {},
   "outputs": [],
   "source": [
    "CDF_plotter('REB_RATE', 'Rebounding Rate')"
   ]
  },
  {
   "cell_type": "code",
   "execution_count": null,
   "metadata": {},
   "outputs": [],
   "source": [
    "CDF_saver('PF', 'Personal Fouls')"
   ]
  },
  {
   "cell_type": "code",
   "execution_count": null,
   "metadata": {},
   "outputs": [],
   "source": [
    "CDF_plotter('PF', 'Personal Fouls')"
   ]
  },
  {
   "cell_type": "code",
   "execution_count": null,
   "metadata": {},
   "outputs": [],
   "source": [
    "CDF_saver('OPP_FG_PCT', \"Opponents' FG %\")"
   ]
  },
  {
   "cell_type": "code",
   "execution_count": null,
   "metadata": {},
   "outputs": [],
   "source": [
    "CDF_plotter('OPP_FG_PCT', \"Opponents' FG %\")"
   ]
  },
  {
   "cell_type": "code",
   "execution_count": null,
   "metadata": {},
   "outputs": [],
   "source": [
    "CDF_saver('OPP_3FG_PCT', \"Opponents' 3PT FG %\")"
   ]
  },
  {
   "cell_type": "code",
   "execution_count": null,
   "metadata": {
    "scrolled": true
   },
   "outputs": [],
   "source": [
    "CDF_plotter('OPP_3FG_PCT', \"Opponents' 3PT FG %\")"
   ]
  },
  {
   "cell_type": "code",
   "execution_count": null,
   "metadata": {},
   "outputs": [],
   "source": [
    "#Plot CDF of rebounds versus various normal models\n",
    "win_reb_cdf = ts2.Cdf(winners['DREB'], label='Wins')\n",
    "thinkplot.PrePlot(4)\n",
    "thinkplot.Cdf(win_reb_cdf, label='DREB')\n",
    "sigmas = [5.4, 5.5, 5.6]\n",
    "colors = ['blue', 'yellow', 'green']\n",
    "for sigma, color in zip(sigmas, colors):\n",
    "    xs, ps = ts2.RenderNormalCdf(mu=32, sigma=sigma, \n",
    "                                               low=14, high=57)\n",
    "    thinkplot.Plot(xs, ps, label=f'Sigma of {sigma}', color=color)\n",
    "    thinkplot.config(legend=True, xlabel='Rebounds', ylabel='Percent'\n",
    "                     , title='Normal Distribution vs. Def. Rebounds')\n"
   ]
  },
  {
   "cell_type": "code",
   "execution_count": null,
   "metadata": {},
   "outputs": [],
   "source": [
    "#Plot CDF of rebounds versus various normal models\n",
    "win_reb_cdf = ts2.Cdf(winners['DREB'], label='Wins')\n",
    "thinkplot.PrePlot(4)\n",
    "thinkplot.Cdf(win_reb_cdf, label='DREB')\n",
    "sigmas = [5.4, 5.5, 5.6]\n",
    "colors = ['blue', 'yellow', 'green']\n",
    "for sigma, color in zip(sigmas, colors):\n",
    "    xs, ps = ts2.RenderNormalCdf(mu=32, sigma=sigma, \n",
    "                                               low=14, high=57)\n",
    "    thinkplot.Plot(xs, ps, label=f'Sigma of {sigma}', color=color)\n",
    "    thinkplot.config(legend=True, xlabel='Rebounds', ylabel='Percent'\n",
    "                     , title='Normal Distribution vs. Def. Rebounds')\n",
    "\n",
    "thinkplot.Save(root='normDistVsDrebs')"
   ]
  },
  {
   "cell_type": "code",
   "execution_count": null,
   "metadata": {},
   "outputs": [],
   "source": [
    "# Change Win/Loss Column Back\n",
    "# This code changes WinLoss column from WL to binary\n",
    "df.loc[df.WL == 'W', \"WL\"] = 1\n",
    "df.loc[df.WL == 'L', \"WL\"] = 0"
   ]
  },
  {
   "cell_type": "code",
   "execution_count": null,
   "metadata": {},
   "outputs": [],
   "source": []
  }
 ],
 "metadata": {
  "kernelspec": {
   "display_name": "Python 3",
   "language": "python",
   "name": "python3"
  },
  "language_info": {
   "codemirror_mode": {
    "name": "ipython",
    "version": 3
   },
   "file_extension": ".py",
   "mimetype": "text/x-python",
   "name": "python",
   "nbconvert_exporter": "python",
   "pygments_lexer": "ipython3",
   "version": "3.8.5"
  }
 },
 "nbformat": 4,
 "nbformat_minor": 4
}
