{
 "cells": [
  {
   "cell_type": "code",
   "execution_count": 1,
   "metadata": {},
   "outputs": [],
   "source": [
    "import pandas as pd\n",
    "import thinkstats2 as ts2\n",
    "import thinkplot\n",
    "import numpy as np\n",
    "import regression\n",
    "import statsmodels.formula.api as smf\n",
    "import hypothesis as hyp\n",
    "\n",
    "#Filename contains the location of my cleaned NBA csv file copy. Change to your local file location\n",
    "#The second line uses pandas to read the csv file and convert to pandas dataframe\n",
    "filename = r'C:\\Users\\Danny\\thinkstats2\\ThinkStats2\\code\\nbagames1985to2019_cleaned.csv'\n",
    "df = pd.read_csv(filename, index_col=None, header=0)"
   ]
  },
  {
   "cell_type": "code",
   "execution_count": 2,
   "metadata": {},
   "outputs": [],
   "source": [
    "df.loc[df.WL == 0, \"WL\"] = 'L'\n",
    "df.loc[df.WL == 1, \"WL\"] = 'W'\n",
    "winners = df[df.WL == 'W'] #This creates a new dataframe which contains only game stats from winning teams.\n",
    "losers = df[df.WL == 'L'] #This creates a new dataframe which contains only game stats from losing teams."
   ]
  },
  {
   "cell_type": "code",
   "execution_count": null,
   "metadata": {},
   "outputs": [],
   "source": [
    "data = winners.BLK.values, losers.BLK.values\n",
    "ht = hyp.DiffMeansPermute(data)\n",
    "p_value = ht.PValue(iters=100)\n",
    "print('\\nmeans permute two-sided')\n",
    "hyp.PrintTest(p_value, ht)\n",
    "\n",
    "ht.PlotCdf()\n",
    "thinkplot.Config(title='Permutation test', xlabel='difference in means', ylabel='CDF',\n",
    "                legend=False)"
   ]
  },
  {
   "cell_type": "code",
   "execution_count": null,
   "metadata": {},
   "outputs": [],
   "source": [
    "data = winners.BLK.values, losers.BLK.values\n",
    "ht = hyp.DiffMeansPermute(data)\n",
    "p_value = ht.PValue(iters=100)\n",
    "ht.PlotCdf()\n",
    "thinkplot.Save(formats = ['png'], root='hypothesis1', title='Permutation test', xlabel='difference in means', ylabel='CDF',\n",
    "                legend=False)"
   ]
  },
  {
   "cell_type": "code",
   "execution_count": null,
   "metadata": {},
   "outputs": [],
   "source": [
    "data = winners.STL.values, losers.STL.values\n",
    "ht = hyp.DiffMeansPermute(data)\n",
    "p_value = ht.PValue(iters=100)\n",
    "print('\\nmeans permute two-sided')\n",
    "hyp.PrintTest(p_value, ht)\n",
    "\n",
    "ht.PlotCdf()\n",
    "thinkplot.Config(title='Permutation test', xlabel='difference in std', ylabel='CDF',\n",
    "                legend=False)"
   ]
  },
  {
   "cell_type": "code",
   "execution_count": null,
   "metadata": {},
   "outputs": [],
   "source": [
    "data = winners.STL.values, losers.STL.values\n",
    "ht = hyp.DiffMeansPermute(data)\n",
    "p_value = ht.PValue(iters=100)\n",
    "ht.PlotCdf()\n",
    "thinkplot.Save(formats = ['png'], root='hypothesis2', title='Permutation test', xlabel='difference in means', ylabel='CDF',\n",
    "                legend=False)"
   ]
  },
  {
   "cell_type": "code",
   "execution_count": null,
   "metadata": {},
   "outputs": [],
   "source": [
    "data = winners.DREB.values, losers.DREB.values\n",
    "ht = hyp.DiffMeansPermute(data)\n",
    "p_value = ht.PValue(iters=100)\n",
    "print('\\nmeans permute two-sided')\n",
    "hyp.PrintTest(p_value, ht)\n",
    "\n",
    "ht.PlotCdf()\n",
    "thinkplot.Config(title='Permutation test', xlabel='difference in means', ylabel='CDF',\n",
    "                legend=False)"
   ]
  },
  {
   "cell_type": "code",
   "execution_count": null,
   "metadata": {},
   "outputs": [],
   "source": [
    "data = winners.DREB.values, losers.DREB.values\n",
    "ht = hyp.DiffMeansPermute(data)\n",
    "p_value = ht.PValue(iters=100)\n",
    "ht.PlotCdf()\n",
    "thinkplot.Save(formats = ['png'], root='hypothesis3', title='Permutation test', xlabel='difference in means', ylabel='CDF',\n",
    "                legend=False)"
   ]
  },
  {
   "cell_type": "code",
   "execution_count": null,
   "metadata": {},
   "outputs": [],
   "source": [
    "data = winners.DREB.values, losers.DREB.values\n",
    "ht = hyp.DiffStdPermute(data)\n",
    "p_value = ht.PValue(iters=100)\n",
    "print('\\nstd permute one-sided')\n",
    "hyp.PrintTest(p_value, ht)\n",
    "ht.PlotCdf()\n",
    "thinkplot.Config(title='Permutation test', xlabel='difference in std', ylabel='CDF',\n",
    "                legend=False)"
   ]
  },
  {
   "cell_type": "code",
   "execution_count": null,
   "metadata": {},
   "outputs": [],
   "source": [
    "data = winners.DREB.values, losers.DREB.values\n",
    "ht = hyp.DiffStdPermute(data)\n",
    "p_value = ht.PValue(iters=100)\n",
    "ht.PlotCdf()\n",
    "thinkplot.Save(formats = ['png'], root='hypothesis4', title='Permutation test', xlabel='difference in std', ylabel='CDF',\n",
    "                legend=False)"
   ]
  },
  {
   "cell_type": "code",
   "execution_count": null,
   "metadata": {},
   "outputs": [],
   "source": [
    "data = winners.BLK.values, losers.BLK.values\n",
    "ht = hyp.DiffStdPermute(data)\n",
    "p_value = ht.PValue(iters=100)\n",
    "print('\\nstd permute one-sided')\n",
    "hyp.PrintTest(p_value, ht)\n",
    "ht.PlotCdf()\n",
    "thinkplot.Config(title='Permutation test', xlabel='difference in std', ylabel='CDF',\n",
    "                legend=False)"
   ]
  },
  {
   "cell_type": "code",
   "execution_count": null,
   "metadata": {},
   "outputs": [],
   "source": [
    "data = winners.BLK.values, losers.BLK.values\n",
    "ht = hyp.DiffStdPermute(data)\n",
    "p_value = ht.PValue(iters=100)\n",
    "ht.PlotCdf()\n",
    "thinkplot.Save(formats = ['png'], root='hypothesis5', title='Permutation test', xlabel='difference in std', ylabel='CDF',\n",
    "                legend=False)"
   ]
  },
  {
   "cell_type": "code",
   "execution_count": null,
   "metadata": {},
   "outputs": [],
   "source": [
    "data = winners.STL.values, losers.STL.values\n",
    "ht = hyp.DiffStdPermute(data)\n",
    "p_value = ht.PValue(iters=100)\n",
    "print('\\nstd permute one-sided')\n",
    "hyp.PrintTest(p_value, ht)\n",
    "ht.PlotCdf()\n",
    "thinkplot.Config(title='Permutation test', xlabel='difference in std', ylabel='CDF',\n",
    "                legend=False)"
   ]
  },
  {
   "cell_type": "code",
   "execution_count": null,
   "metadata": {},
   "outputs": [],
   "source": [
    "data = winners.STL.values, losers.STL.values\n",
    "ht = hyp.DiffStdPermute(data)\n",
    "p_value = ht.PValue(iters=100)\n",
    "\n",
    "ht.PlotCdf()\n",
    "thinkplot.Save(formats = ['png'], root='hypothesis6', title='Permutation test', xlabel='difference in std', ylabel='CDF',\n",
    "                legend=False)"
   ]
  },
  {
   "cell_type": "code",
   "execution_count": null,
   "metadata": {},
   "outputs": [],
   "source": []
  }
 ],
 "metadata": {
  "kernelspec": {
   "display_name": "Python 3",
   "language": "python",
   "name": "python3"
  },
  "language_info": {
   "codemirror_mode": {
    "name": "ipython",
    "version": 3
   },
   "file_extension": ".py",
   "mimetype": "text/x-python",
   "name": "python",
   "nbconvert_exporter": "python",
   "pygments_lexer": "ipython3",
   "version": "3.8.5"
  }
 },
 "nbformat": 4,
 "nbformat_minor": 4
}
