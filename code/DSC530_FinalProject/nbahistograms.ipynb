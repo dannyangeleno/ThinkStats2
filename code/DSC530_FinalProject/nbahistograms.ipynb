{
 "cells": [
  {
   "cell_type": "code",
   "execution_count": null,
   "metadata": {},
   "outputs": [],
   "source": [
    "import pandas as pd\n",
    "import thinkstats2\n",
    "import thinkplot\n",
    "filename = r'C:\\Users\\Danny\\thinkstats2\\ThinkStats2\\code\\nbagames1985to2019_cleaned.csv'\n",
    "df = pd.read_csv(filename, index_col=None, header=0)"
   ]
  },
  {
   "cell_type": "code",
   "execution_count": null,
   "metadata": {},
   "outputs": [],
   "source": [
    "def HistSave(col_name, ColumnName):\n",
    "    thinkplot.Hist(thinkstats2.Hist(df[col_name]))\n",
    "    thinkplot.Config(xlabel='value', ylabel='frequency',title = f'Histogram of {ColumnName}')\n",
    "    thinkplot.Save(root=col_name+'_hist')"
   ]
  },
  {
   "cell_type": "code",
   "execution_count": null,
   "metadata": {},
   "outputs": [],
   "source": [
    "def HistDisplay(col_name, ColumnName):\n",
    "    thinkplot.Hist(thinkstats2.Hist(df[col_name]))\n",
    "    thinkplot.Config(xlabel='value', ylabel='frequency',title = f'Histogram of {ColumnName}')\n",
    "    thinkplot.Show()"
   ]
  },
  {
   "cell_type": "code",
   "execution_count": null,
   "metadata": {},
   "outputs": [],
   "source": [
    "HistSave('DREB', 'Defensive Rebounds')\n",
    "HistDisplay('DREB', 'Defensive Rebounds')"
   ]
  },
  {
   "cell_type": "code",
   "execution_count": null,
   "metadata": {},
   "outputs": [],
   "source": [
    "HistSave('STL', 'Steals')\n",
    "HistDisplay('STL', 'Steals')"
   ]
  },
  {
   "cell_type": "code",
   "execution_count": null,
   "metadata": {},
   "outputs": [],
   "source": [
    "HistSave('BLK', 'Blocks')\n",
    "HistDisplay('BLK', 'Blocks')"
   ]
  },
  {
   "cell_type": "code",
   "execution_count": null,
   "metadata": {},
   "outputs": [],
   "source": [
    "HistSave('OPP_PTS', \"Opponents' Points\")\n",
    "HistDisplay('OPP_PTS', \"Opponents' Points\")"
   ]
  },
  {
   "cell_type": "code",
   "execution_count": null,
   "metadata": {},
   "outputs": [],
   "source": [
    "HistSave('REB_RATE', 'Rebounding Rate')\n",
    "HistDisplay('REB_RATE', 'Rebounding Rate')"
   ]
  },
  {
   "cell_type": "code",
   "execution_count": null,
   "metadata": {},
   "outputs": [],
   "source": [
    "HistSave('OPP_FG_PCT', \"Opponents' Field Goal %\")\n",
    "HistDisplay('OPP_FG_PCT', \"Opponents' Field Goal %\")"
   ]
  },
  {
   "cell_type": "code",
   "execution_count": null,
   "metadata": {},
   "outputs": [],
   "source": [
    "HistSave('OPP_3FG_PCT', \"Opponents' 3 Point Field Goal %\")\n",
    "HistDisplay('OPP_3FG_PCT', \"Opponents'3 Point Field Goal %\")"
   ]
  },
  {
   "cell_type": "code",
   "execution_count": null,
   "metadata": {},
   "outputs": [],
   "source": [
    "HistSave('PF', 'Personal Fouls')\n",
    "HistDisplay('PF', 'Personal Fouls')"
   ]
  },
  {
   "cell_type": "code",
   "execution_count": null,
   "metadata": {},
   "outputs": [],
   "source": [
    "thirdthrees = df[df['OPP_3FG_PCT'] == .5]\n",
    "thinkplot.Hist(thinkstats2.Hist(thirdthrees.WL))\n",
    "thinkplot.Config(xlabel='loss vs. wins', ylabel='frequency',title = \"Wins vs Losses when Opp. Hits Half of 3PTs\")\n",
    "thinkplot.Save(root='half3s_hist')"
   ]
  },
  {
   "cell_type": "code",
   "execution_count": null,
   "metadata": {},
   "outputs": [],
   "source": [
    "thirdthrees = df[df['OPP_3FG_PCT'] == .5]\n",
    "thinkplot.Hist(thinkstats2.Hist(thirdthrees.WL))\n",
    "thinkplot.Config(xlabel='loss vs. wins', ylabel='frequency',title = \"Wins vs Losses when Opp. Hits Half of 3PTs\")"
   ]
  },
  {
   "cell_type": "code",
   "execution_count": null,
   "metadata": {},
   "outputs": [],
   "source": [
    "thirdthrees = df[df['OPP_3FG_PCT'] == .33]\n",
    "thinkplot.Hist(thinkstats2.Hist(thirdthrees.WL))\n",
    "thinkplot.Config(xlabel='loss vs. wins', ylabel='frequency',title = \"Wins vs Losses when Opp. Hits Third of 3PTs\")\n",
    "thinkplot.Save(root='third3s_hist')"
   ]
  },
  {
   "cell_type": "code",
   "execution_count": null,
   "metadata": {},
   "outputs": [],
   "source": [
    "thirdthrees = df[df['OPP_3FG_PCT'] == .33]\n",
    "thinkplot.Hist(thinkstats2.Hist(thirdthrees.WL))\n",
    "thinkplot.Config(xlabel='loss vs. wins', ylabel='frequency',title = \"Wins vs Losses when Opp. Hits Third of 3PTs\")"
   ]
  },
  {
   "cell_type": "code",
   "execution_count": null,
   "metadata": {},
   "outputs": [],
   "source": []
  }
 ],
 "metadata": {
  "kernelspec": {
   "display_name": "Python 3",
   "language": "python",
   "name": "python3"
  },
  "language_info": {
   "codemirror_mode": {
    "name": "ipython",
    "version": 3
   },
   "file_extension": ".py",
   "mimetype": "text/x-python",
   "name": "python",
   "nbconvert_exporter": "python",
   "pygments_lexer": "ipython3",
   "version": "3.8.5"
  }
 },
 "nbformat": 4,
 "nbformat_minor": 4
}
